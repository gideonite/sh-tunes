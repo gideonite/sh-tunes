{
 "metadata": {
  "name": ""
 },
 "nbformat": 3,
 "nbformat_minor": 0,
 "worksheets": [
  {
   "cells": [
    {
     "cell_type": "code",
     "collapsed": false,
     "input": [
      "import csv\n",
      "import re\n",
      "import pandas\n",
      "path = \"data/test-for-rachel-oh-tunes.csv\""
     ],
     "language": "python",
     "metadata": {},
     "outputs": [],
     "prompt_number": 1
    },
    {
     "cell_type": "code",
     "collapsed": false,
     "input": [
      "# keys\n",
      "firstline = \"Melody Incipit first line\"\n",
      "secondline = \"Melody Incipit second line\"\n",
      "tunename = \"Tune Name\"\n",
      "cleaned_1st_incipit = \"cleaned-first-incipit\""
     ],
     "language": "python",
     "metadata": {},
     "outputs": [],
     "prompt_number": 2
    },
    {
     "cell_type": "code",
     "collapsed": false,
     "input": [
      "def remove_Us_and_Ds(incipit):\n",
      "    '''\n",
      "    string -> list.\n",
      "    '''\n",
      "    if type(incipit) != str:\n",
      "        print type(incipit)\n",
      "        raise Error\n",
      "    U = 0\n",
      "    D = 0\n",
      "    ret = []\n",
      "    for ch in incipit:\n",
      "        if 'U' == ch.upper():\n",
      "            U += 1\n",
      "            continue\n",
      "        elif 'D' == ch.upper():\n",
      "            D += 1\n",
      "            continue\n",
      "        elif '(' == ch or ')' == ch:\n",
      "            pass\n",
      "        elif ch in '0123456789':\n",
      "            ch = int(ch) + 7*U - 7*D\n",
      "        else:\n",
      "            ch = ''\n",
      "        ret.append(ch)\n",
      "    return ret\n",
      "\n",
      "assert remove_Us_and_Ds(\"12\") == [1,2]\n",
      "assert remove_Us_and_Ds(\"1u8\") == [1,15]\n",
      "assert remove_Us_and_Ds(\"1u1\") == [1,8]\n",
      "assert remove_Us_and_Ds(\"5u123d6543(21)\") == [5,8,9,10,6,5,4,3,'(',2,1,')']"
     ],
     "language": "python",
     "metadata": {},
     "outputs": [],
     "prompt_number": 3
    },
    {
     "cell_type": "code",
     "collapsed": false,
     "input": [
      "def remove_parens(incipit):\n",
      "    '''\n",
      "    list -> list.\n",
      "    Removes everything in parens.\n",
      "    '''\n",
      "    iswithin = False\n",
      "    ret = []\n",
      "    for x in incipit:\n",
      "        if '(' == x:\n",
      "            iswithin = True\n",
      "        elif ')' == x:\n",
      "            iswithin = False\n",
      "        elif not iswithin:\n",
      "            ret.append(x)\n",
      "    return ret\n",
      "        \n",
      "assert [1,2,3] == remove_parens([1,2,3,'(',4,5,')'])\n",
      "assert [1,2,3] == remove_parens(['(',4,5,')',1,2,3])\n",
      "assert [2] == remove_parens(['(',1,')',2,'(',3,')','(',4,')'])"
     ],
     "language": "python",
     "metadata": {},
     "outputs": [],
     "prompt_number": 4
    },
    {
     "cell_type": "code",
     "collapsed": false,
     "input": [
      "def clean_incipit(incipit):\n",
      "    if pandas.isnull(incipit):\n",
      "        return incipit\n",
      "    return remove_parens(remove_Us_and_Ds(incipit))\n",
      "\n",
      "assert [1, 5, 19, 15] == clean_incipit(\"15(u1)u51(d5d6)\")  # Rachel's example from email."
     ],
     "language": "python",
     "metadata": {},
     "outputs": [],
     "prompt_number": 5
    },
    {
     "cell_type": "code",
     "collapsed": false,
     "input": [
      "data = pandas.read_csv(path)\n",
      "data[cleaned_1st_incipit] = pandas.Series(map(clean_incipit, data[firstline]))\n",
      "\n",
      "cleaned_data = data[[tunename,firstline,cleaned_1st_incipit]]\n",
      "\n",
      "# cleaned_data.to_csv(\"oh-tunes-draft.csv\")"
     ],
     "language": "python",
     "metadata": {},
     "outputs": [],
     "prompt_number": 6
    },
    {
     "cell_type": "code",
     "collapsed": false,
     "input": [
      "cleaned_data = cleaned_data[pandas.notnull(cleaned_data[tunename]) & pandas.notnull(cleaned_data[firstline])]\n",
      "\n",
      "incipit_len_distribution = {}\n",
      "for incipit in cleaned_data[cleaned_1st_incipit]:\n",
      "    length = len(incipit)\n",
      "    incipit_len_distribution[length] = incipit_len_distribution.get(length, 0) + 1\n",
      "\n",
      "%matplotlib inline\n",
      "import matplotlib.pyplot as plt\n",
      "\n",
      "D = incipit_len_distribution\n",
      "\n",
      "plt.bar(range(len(D)), D.values(), align='center')\n",
      "plt.xticks(range(len(D)), D.keys())\n",
      "plt.show()"
     ],
     "language": "python",
     "metadata": {},
     "outputs": [
      {
       "metadata": {},
       "output_type": "display_data",
       "png": "[encoded data removed]",
       "text": [
        "<matplotlib.figure.Figure at 0x109c95590>"
       ]
      }
     ],
     "prompt_number": 38
    }
   ],
   "metadata": {}
  }
 ]
}