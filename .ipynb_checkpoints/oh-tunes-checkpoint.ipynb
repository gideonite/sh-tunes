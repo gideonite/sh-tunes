{
 "metadata": {
  "name": ""
 },
 "nbformat": 3,
 "nbformat_minor": 0,
 "worksheets": [
  {
   "cells": [
    {
     "cell_type": "code",
     "collapsed": false,
     "input": [
      "import csv\n",
      "import re\n",
      "path = \"data/test-for-rachel-oh-tunes.csv\""
     ],
     "language": "python",
     "metadata": {},
     "outputs": [],
     "prompt_number": 45
    },
    {
     "cell_type": "code",
     "collapsed": false,
     "input": [
      "data = []\n",
      "with open(path, 'rb') as csvfile:\n",
      "    reader = csv.DictReader(csvfile, delimiter=',')\n",
      "    count = 0\n",
      "    for row in reader:\n",
      "        data.append(row)"
     ],
     "language": "python",
     "metadata": {},
     "outputs": [],
     "prompt_number": 46
    },
    {
     "cell_type": "code",
     "collapsed": false,
     "input": [
      "# keys\n",
      "firstline = \"Melody Incipit first line\"\n",
      "secondline = \"Melody Incipit second line\"\n",
      "tunename = \"Tune Name\"\n",
      "\n",
      "# run test\n",
      "for d in data:\n",
      "    d[firstline]\n",
      "    d[secondline]\n",
      "    d[tunename]"
     ],
     "language": "python",
     "metadata": {},
     "outputs": [],
     "prompt_number": 47
    },
    {
     "cell_type": "code",
     "collapsed": false,
     "input": [
      "def project(alist, akey):\n",
      "    return map(lambda d: d[akey], alist)"
     ],
     "language": "python",
     "metadata": {},
     "outputs": [],
     "prompt_number": 48
    },
    {
     "cell_type": "code",
     "collapsed": false,
     "input": [
      "def remove_Us_and_Ds(incipit):\n",
      "    '''\n",
      "    string -> string.\n",
      "    '''\n",
      "    U = 0\n",
      "    D = 0\n",
      "    ret = ''\n",
      "    for ch in incipit:\n",
      "        if 'U' == ch.upper():\n",
      "            U += 1\n",
      "        elif 'D' == ch.upper():\n",
      "            D += 1\n",
      "        elif '(' == ch or ')' == ch:\n",
      "            pass\n",
      "        elif ch in '0123456789':\n",
      "            ch = str(int(ch) + 7*D - 7*U)\n",
      "        else:\n",
      "            ch = ''\n",
      "            # print \"Unhandled chars: \", incipit\n",
      "        ret += ch\n",
      "    return ret\n",
      "\n",
      "# run test\n",
      "for incipit in project(data, firstline):\n",
      "    remove_Us_and_Ds(incipit)"
     ],
     "language": "python",
     "metadata": {},
     "outputs": [],
     "prompt_number": 49
    },
    {
     "cell_type": "code",
     "collapsed": false,
     "input": [
      "def remove_parens(incipit):\n",
      "    '''\n",
      "    string -> string.\n",
      "    Removes everything in parens.\n",
      "    '''\n",
      "    return re.sub(\"\\(.*\\)\", \"\", incipit)\n",
      "\n",
      "# test\n",
      "#assert \"123\" == remove_parens(\"123(45)\")\n",
      "#assert \"123\" == remove_parens(\"(abc)123(45)\")"
     ],
     "language": "python",
     "metadata": {},
     "outputs": [
      {
       "metadata": {},
       "output_type": "pyout",
       "prompt_number": 127,
       "text": [
        "'1'"
       ]
      }
     ],
     "prompt_number": 127
    },
    {
     "cell_type": "code",
     "collapsed": false,
     "input": [
      "def clean_incipit(incipit): return remove_parens(remove_Us_and_Ds(incipit))"
     ],
     "language": "python",
     "metadata": {},
     "outputs": [],
     "prompt_number": 70
    },
    {
     "cell_type": "code",
     "collapsed": false,
     "input": [
      "project(data, firstline)[0]"
     ],
     "language": "python",
     "metadata": {},
     "outputs": [
      {
       "metadata": {},
       "output_type": "pyout",
       "prompt_number": 73,
       "text": [
        "'1(3)5(3)4(2)3(2)3(4)5(65)4(3)3(2)'"
       ]
      }
     ],
     "prompt_number": 73
    },
    {
     "cell_type": "code",
     "collapsed": false,
     "input": [
      "# Most of the data we'll be looking at is in the form of incipits, rather than\n",
      "# actual scored music, so for example, NEWBURGH is here:\n",
      "# http://hymntune.library.uiuc.edu/TuneCode.asp?keyTC=7656\n",
      "# \n",
      "# The meter is SM (6, 6, 8, 6) and the incipit is\n",
      "# \n",
      "# 535U121 - 131(3)2(1D7)65 - 5U11D6U1(3)222 - [3(2)11D6U22(1)D7(6)5] -\n",
      "# 34(56)U21D7U1 - 000000 - 131D6U2(3)2 - 00000000 - [D5U11132(1)2(3)2] -\n",
      "# 4354(3)21\n",
      "# \n",
      "# So the first thing I would do is to get rid of the D and U: D adds 7 to the\n",
      "# notes following and U subtracts 7, so you get\n",
      "# \n",
      "# 5,3,5,8,9,8, - 8,10,8,(10,)9,(8,7,)6,5, - 5,8,8,6,8,(10,)9,9,9, ....etc.\n",
      "# \n",
      "# Now throw out everything in (), which gives\n",
      "# \n",
      "# 5,3,5,8,9,8, - 8,10,8,9,6,5, - 5,8,8,6,8,9,9,9, - [10,8,8,6,9,9,7,5,] - ...\n",
      "# etc."
     ],
     "language": "python",
     "metadata": {},
     "outputs": [],
     "prompt_number": 54
    }
   ],
   "metadata": {}
  }
 ]
}