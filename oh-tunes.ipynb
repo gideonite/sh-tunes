{
 "metadata": {
  "name": ""
 },
 "nbformat": 3,
 "nbformat_minor": 0,
 "worksheets": [
  {
   "cells": [
    {
     "cell_type": "code",
     "collapsed": false,
     "input": [
      "import csv\n",
      "import re\n",
      "import pandas\n",
      "path = \"data/test-for-rachel-oh-tunes.csv\""
     ],
     "language": "python",
     "metadata": {},
     "outputs": [],
     "prompt_number": 9
    },
    {
     "cell_type": "code",
     "collapsed": false,
     "input": [
      "# keys\n",
      "firstline = \"Melody Incipit first line\"\n",
      "secondline = \"Melody Incipit second line\"\n",
      "tunename = \"Tune Name\""
     ],
     "language": "python",
     "metadata": {},
     "outputs": [],
     "prompt_number": 1
    },
    {
     "cell_type": "code",
     "collapsed": false,
     "input": [
      "def remove_Us_and_Ds(incipit):\n",
      "    '''\n",
      "    string -> list.\n",
      "    '''\n",
      "    if type(incipit) != str:\n",
      "        print type(incipit)\n",
      "        raise Error\n",
      "    U = 0\n",
      "    D = 0\n",
      "    ret = []\n",
      "    for ch in incipit:\n",
      "        if 'U' == ch.upper():\n",
      "            U += 1\n",
      "            continue\n",
      "        elif 'D' == ch.upper():\n",
      "            D += 1\n",
      "            continue\n",
      "        elif '(' == ch or ')' == ch:\n",
      "            pass\n",
      "        elif ch in '0123456789':\n",
      "            ch = int(ch) + 7*D - 7*U\n",
      "        else:\n",
      "            ch = ''\n",
      "        ret.append(ch)\n",
      "    return ret\n",
      "\n",
      "assert remove_Us_and_Ds(\"12\") == [1,2]\n",
      "assert remove_Us_and_Ds(\"1u8\") == [1,1]\n",
      "assert remove_Us_and_Ds(\"1u1\") == [1,-6]\n",
      "remove_Us_and_Ds(\"5u123d6543(21)\")"
     ],
     "language": "python",
     "metadata": {},
     "outputs": [
      {
       "metadata": {},
       "output_type": "pyout",
       "prompt_number": 59,
       "text": [
        "[5, -6, -5, -4, 6, 5, 4, 3, '(', 2, 1, ')']"
       ]
      }
     ],
     "prompt_number": 59
    },
    {
     "cell_type": "code",
     "collapsed": false,
     "input": [
      "def remove_parens(incipit):\n",
      "    '''\n",
      "    list -> list.\n",
      "    Removes everything in parens.\n",
      "    '''\n",
      "    iswithin = False\n",
      "    ret = []\n",
      "    for x in incipit:\n",
      "        if '(' == x:\n",
      "            iswithin = True\n",
      "        elif ')' == x:\n",
      "            iswithin = False\n",
      "        elif not iswithin:\n",
      "            ret.append(x)\n",
      "    return ret\n",
      "        \n",
      "assert [1,2,3] == remove_parens([1,2,3,'(',4,5,')'])\n",
      "assert [1,2,3] == remove_parens(['(',4,5,')',1,2,3])\n",
      "assert [2] == remove_parens(['(',1,')',2,'(',3,')','(',4,')'])"
     ],
     "language": "python",
     "metadata": {},
     "outputs": [],
     "prompt_number": 75
    },
    {
     "cell_type": "code",
     "collapsed": false,
     "input": [
      "def clean_incipit(incipit):\n",
      "    if pandas.isnull(incipit):\n",
      "        return incipit\n",
      "    return remove_parens(remove_Us_and_Ds(incipit))"
     ],
     "language": "python",
     "metadata": {},
     "outputs": [],
     "prompt_number": 90
    },
    {
     "cell_type": "code",
     "collapsed": false,
     "input": [
      "cleaned_1st_incipit = \"cleaned-first-incipit\"\n",
      "data = pandas.read_csv(path)\n",
      "data[cleaned_1st_incipit] = pandas.Series(map(clean_incipit, data[firstline]))\n",
      "\n",
      "out = data[[tunename,firstline,cleaned_1st_incipit]]\n",
      "\n",
      "# out.to_csv(\"oh-tunes-draft.csv\")"
     ],
     "language": "python",
     "metadata": {},
     "outputs": [],
     "prompt_number": 98
    }
   ],
   "metadata": {}
  }
 ]
}