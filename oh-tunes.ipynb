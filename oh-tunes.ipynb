{
 "metadata": {
  "name": ""
 },
 "nbformat": 3,
 "nbformat_minor": 0,
 "worksheets": [
  {
   "cells": [
    {
     "cell_type": "code",
     "collapsed": false,
     "input": [
      "import csv\n",
      "import re\n",
      "path = \"data/test-for-rachel-oh-tunes.csv\""
     ],
     "language": "python",
     "metadata": {},
     "outputs": [],
     "prompt_number": 45
    },
    {
     "cell_type": "code",
     "collapsed": false,
     "input": [
      "data = []\n",
      "with open(path, 'rb') as csvfile:\n",
      "    reader = csv.DictReader(csvfile, delimiter=',')\n",
      "    count = 0\n",
      "    for row in reader:\n",
      "        data.append(row)"
     ],
     "language": "python",
     "metadata": {},
     "outputs": [],
     "prompt_number": 46
    },
    {
     "cell_type": "code",
     "collapsed": false,
     "input": [
      "# keys\n",
      "firstline = \"Melody Incipit first line\"\n",
      "secondline = \"Melody Incipit second line\"\n",
      "tunename = \"Tune Name\"\n",
      "\n",
      "# run test\n",
      "for d in data:\n",
      "    d[firstline]\n",
      "    d[secondline]\n",
      "    d[tunename]"
     ],
     "language": "python",
     "metadata": {},
     "outputs": [],
     "prompt_number": 47
    },
    {
     "cell_type": "code",
     "collapsed": false,
     "input": [
      "def project(alist, akey):\n",
      "    return map(lambda d: d[akey], alist)"
     ],
     "language": "python",
     "metadata": {},
     "outputs": [],
     "prompt_number": 48
    },
    {
     "cell_type": "code",
     "collapsed": false,
     "input": [
      "def remove_Us_and_Ds(incipit):\n",
      "    '''\n",
      "    string -> string.\n",
      "    '''\n",
      "    if type(incipit) != str:\n",
      "        raise Error\n",
      "    U = 0\n",
      "    D = 0\n",
      "    ret = ''\n",
      "    for ch in incipit:\n",
      "        if 'U' == ch.upper():\n",
      "            U += 1\n",
      "            ch = ''\n",
      "        elif 'D' == ch.upper():\n",
      "            D += 1\n",
      "            ch = ''\n",
      "        elif '(' == ch or ')' == ch:\n",
      "            pass\n",
      "        elif ch in '0123456789':\n",
      "            ch = str(int(ch) + 7*D - 7*U)\n",
      "        else:\n",
      "            ch = ''\n",
      "        ret += ch\n",
      "    return ret\n",
      "\n",
      "# run test\n",
      "#for incipit in project(data, firstline):\n",
      "#    remove_Us_and_Ds(incipit)"
     ],
     "language": "python",
     "metadata": {},
     "outputs": [],
     "prompt_number": 250
    },
    {
     "cell_type": "code",
     "collapsed": false,
     "input": [
      "def remove_parens(incipit):\n",
      "    '''\n",
      "    string -> string.\n",
      "    Removes everything in parens.\n",
      "    '''\n",
      "    return re.sub(\"\\([a-zA-z0-9]*\\)\", \"\", incipit)\n",
      "\n",
      "# test\n",
      "assert \"123\" == remove_parens(\"123(45)\")\n",
      "assert \"123\" == remove_parens(\"(45)123\")\n",
      "assert \"2\" == remove_parens(\"(1)2(3)(4)\")"
     ],
     "language": "python",
     "metadata": {},
     "outputs": [],
     "prompt_number": 174
    },
    {
     "cell_type": "code",
     "collapsed": false,
     "input": [
      "def clean_incipit(incipit): return remove_parens(remove_Us_and_Ds(incipit))"
     ],
     "language": "python",
     "metadata": {},
     "outputs": [],
     "prompt_number": 234
    },
    {
     "cell_type": "code",
     "collapsed": false,
     "input": [
      "project(data, firstline)[1]"
     ],
     "language": "python",
     "metadata": {},
     "outputs": [
      {
       "metadata": {},
       "output_type": "pyout",
       "prompt_number": 235,
       "text": [
        "'1d555u33(4)2(d7)u1'"
       ]
      }
     ],
     "prompt_number": 235
    },
    {
     "cell_type": "code",
     "collapsed": false,
     "input": [
      "map(clean_incipit, project(data, firstline)[0:10])"
     ],
     "language": "python",
     "metadata": {},
     "outputs": [
      {
       "metadata": {},
       "output_type": "pyout",
       "prompt_number": 237,
       "text": [
        "['15433543',\n",
        " '11212123321',\n",
        " '5-6-5-46543',\n",
        " '135-6-5-6',\n",
        " '1331323455',\n",
        " '1112121110',\n",
        " '1112134311',\n",
        " '11235433',\n",
        " '1111214(12(22',\n",
        " '1121312108']"
       ]
      }
     ],
     "prompt_number": 237
    },
    {
     "cell_type": "code",
     "collapsed": false,
     "input": [
      "import pandas\n",
      "\n",
      "data = pandas.read_csv(path)\n",
      "data[firstline][0]"
     ],
     "language": "python",
     "metadata": {},
     "outputs": [
      {
       "metadata": {},
       "output_type": "pyout",
       "prompt_number": 254,
       "text": [
        "'1(3)5(3)4(2)3(2)3(4)5(65)4(3)3(2)'"
       ]
      }
     ],
     "prompt_number": 254
    }
   ],
   "metadata": {}
  }
 ]
}